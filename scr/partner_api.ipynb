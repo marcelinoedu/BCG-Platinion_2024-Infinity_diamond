{
 "cells": [
  {
   "cell_type": "code",
   "execution_count": 29,
   "metadata": {},
   "outputs": [],
   "source": [
    "import json\n",
    "import random"
   ]
  },
  {
   "cell_type": "code",
   "execution_count": 35,
   "metadata": {},
   "outputs": [],
   "source": [
    "def get_lat_lon():\n",
    "    '''\n",
    "    return a random latitude and longitude\n",
    "    '''\n",
    "    lat = random.uniform(-23.725, -23.435) \n",
    "    lon = random.uniform(-46.825, -46.365) \n",
    "\n",
    "    return round(lat,6) , round(lon,6)\n",
    "\n",
    "def get_severity():\n",
    "    '''\n",
    "    return a random severity type \n",
    "    '''\n",
    "    severity = ['low', 'median', 'high']\n",
    "    return random.choice(severity)\n",
    "\n",
    "def get_incident_type():\n",
    "    '''\n",
    "    return a random type of 'disaster' \n",
    "    '''\n",
    "    types = ['flood', 'tree falls', 'landslide']\n",
    "    return random.choice(types)\n",
    "\n",
    "def get_time():\n",
    "    '''\n",
    "    return a random time \n",
    "    '''\n",
    "    hour = random.randint(0, 23)  \n",
    "    minute = random.randint(0, 59)  \n",
    "    return f\"{hour:02d}:{minute:02d}\"  "
   ]
  },
  {
   "cell_type": "code",
   "execution_count": 36,
   "metadata": {},
   "outputs": [
    {
     "name": "stdout",
     "output_type": "stream",
     "text": [
      "JSON file created successfully!\n"
     ]
    }
   ],
   "source": [
    "data_list = []\n",
    "\n",
    "for i in range(100):  \n",
    "    latitude, longitude = get_lat_lon()\n",
    "    severity = get_severity()\n",
    "    incident_type = get_incident_type()\n",
    "    time = get_time()\n",
    "\n",
    "    data = {\n",
    "            \"id\": i + 1,\n",
    "            \"latitude\": latitude,\n",
    "            \"longitude\": longitude,\n",
    "            \"severity\": severity,\n",
    "            \"incident_type\": incident_type,\n",
    "            \"time\": time\n",
    "        }\n",
    "    \n",
    "    data_list.append(data)\n",
    "\n",
    "\n",
    "with open('data_partner_api.json', 'w') as arquivo_json:\n",
    "    json.dump(data_list, arquivo_json, indent=4)\n",
    "\n",
    "print(\"JSON file created successfully!\")"
   ]
  }
 ],
 "metadata": {
  "kernelspec": {
   "display_name": "Python 3",
   "language": "python",
   "name": "python3"
  },
  "language_info": {
   "codemirror_mode": {
    "name": "ipython",
    "version": 3
   },
   "file_extension": ".py",
   "mimetype": "text/x-python",
   "name": "python",
   "nbconvert_exporter": "python",
   "pygments_lexer": "ipython3",
   "version": "3.12.4"
  }
 },
 "nbformat": 4,
 "nbformat_minor": 2
}
